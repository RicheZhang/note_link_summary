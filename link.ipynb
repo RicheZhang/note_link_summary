{
 "cells": [
  {
   "cell_type": "markdown",
   "metadata": {},
   "source": [
    "# 为了方便浏览，将部分的ML、DL的项目以及笔记链接做一个汇总\n"
   ]
  },
  {
   "cell_type": "markdown",
   "metadata": {},
   "source": [
    "## 深度学习项目\n",
    "\n",
    "[基于YOLO的人脸识别闸机](https://github.com/rikichou/yolo)\n",
    "\n",
    "[驾驶员分心驾驶检测：distracted driving detection](https://github.com/rikichou/distracted-driving-detection)\n",
    "\n",
    "[图像识别：dog vs cat](https://github.com/rikichou/final)\n",
    "\n",
    "[情感分析：emojify](https://github.com/rikichou/emojify)\n"
   ]
  },
  {
   "cell_type": "markdown",
   "metadata": {},
   "source": [
    "## 机器学习项目\n",
    "\n",
    "[为慈善机构寻找捐助者：finding donors](https://github.com/rikichou/finding_donors)\n",
    "\n",
    "[创建客户细分：customer segments](https://github.com/rikichou/customer_segments)"
   ]
  },
  {
   "cell_type": "markdown",
   "metadata": {},
   "source": [
    "## 机器学习技法\n",
    "\n",
    "\n",
    "#### 学习笔记\n",
    " [林轩田--机器学习技法--SVM笔记1--线性支持向量机(linear+SVM)](https://github.com/rikichou/linear-svm)\n",
    "\n",
    " [林轩田--机器学习技法--SVM笔记2--对偶支持向量机（dual+SVM）](https://github.com/rikichou/dual-svm)\n",
    "\n",
    " [林轩田--机器学习技法--SVM笔记3--核支持向量机(Kenel+Support+Vector)](https://github.com/rikichou/kernel_support_svm)\n",
    "\n",
    " [林轩田--机器学习技法--SVM笔记4--软间隔支持向量机(Soft-Margin Support Vector Machine)](https://github.com/rikichou/soft_margin_svm) \n",
    "\n",
    " [林轩田--机器学习技法--SVM笔记5--核逻辑回归(Kernel+Logistic+Regression)](https://github.com/rikichou/kernel_logistic_regression) \n",
    "\n",
    " [林轩田--机器学习技法--SVM笔记6--支持向量回归（Support+Vector+Regression）](https://github.com/rikichou/support_vector_regression) \n",
    "\n",
    " [林轩田--机器学习技法--集成学习笔记1--Blending and Bagging](https://github.com/rikichou/blending_and_bagging)\n",
    " \n",
    " [林轩田--机器学习技法--集成学习笔记2--Adaptive Boosting](https://github.com/rikichou/adaptiva_boosting)\n",
    " \n",
    " [林轩田--机器学习技法--集成学习笔记3--Decession Tree](https://github.com/rikichou/decession_tree)\n",
    " \n",
    " [林轩田--机器学习技法--集成学习笔记4--Random Forests](https://github.com/rikichou/random_forests)\n",
    " \n",
    " [林轩田--机器学习技法--集成学习笔记5-Gradient Boosted Decision Tree](https://github.com/rikichou/gbdt)\n",
    "\n",
    "#### 视频/资料：\n",
    "\n",
    " [林轩田老师机器学习视频YouTube链接(因为老师会在YouTube答疑，所以选择YouTube)](https://www.youtube.com/user/hsuantien/playlists)\n",
    "\n",
    " \n",
    "\n",
    "#### 讲义：\n",
    "\n",
    "[林轩田机器学习技法/基石讲义](https://www.csie.ntu.edu.tw/~htlin/mooc/)\n",
    "\n",
    "\n",
    "\n",
    " #### 课后习题:\n",
    "\n",
    " [林轩田机器学习技法/基石课后习题](https://www.csie.ntu.edu.tw/~htlin/course/ml15fall/)"
   ]
  },
  {
   "cell_type": "code",
   "execution_count": null,
   "metadata": {
    "collapsed": true
   },
   "outputs": [],
   "source": []
  }
 ],
 "metadata": {
  "kernelspec": {
   "display_name": "Python 3",
   "language": "python",
   "name": "python3"
  },
  "language_info": {
   "codemirror_mode": {
    "name": "ipython",
    "version": 3
   },
   "file_extension": ".py",
   "mimetype": "text/x-python",
   "name": "python",
   "nbconvert_exporter": "python",
   "pygments_lexer": "ipython3",
   "version": "3.6.4"
  }
 },
 "nbformat": 4,
 "nbformat_minor": 2
}
