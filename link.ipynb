{
 "cells": [
  {
   "cell_type": "markdown",
   "metadata": {},
   "source": [
    "## 大家好，为了方便浏览，我将所有关于机器学习/深度学习的文章链接发布到这个汇总帖子。\n",
    "\n",
    "\n",
    "学习笔记：\n",
    "\n",
    " [林轩田--机器学习技法--SVM笔记1--线性支持向量机(linear+SVM)](https://github.com/rikichou/linear-svm)\n",
    "\n",
    " 林轩田--机器学习技法--SVM笔记2--对偶支持向量机（dual+SVM） \n",
    "\n",
    " 林轩田--机器学习技法--SVM笔记3--核支持向量机(Kenel+Support+Vector) \n",
    "\n",
    " 林轩田--机器学习技法--SVM笔记4--软间隔支持向量机(Soft-Margin Support Vector Machine) \n",
    "\n",
    " 林轩田--机器学习技法--SVM笔记5--核逻辑回归(Kernel+Logistic+Regression) \n",
    "\n",
    " 林轩田--机器学习技法--SVM笔记6--支持向量回归（Support+Vector+Regression） \n",
    "\n",
    "\n",
    "\n",
    "视频/资料：\n",
    "\n",
    " 林轩田老师机器学习视频YouTube链接(因为老师会在YouTube答疑，所以选择YouTube)\n",
    "\n",
    " \n",
    "\n",
    "讲义：\n",
    "\n",
    "林轩田机器学习技法/基石讲义\n",
    "\n",
    "\n",
    "\n",
    " 课后习题:\n",
    "\n",
    " 林轩田机器学习技法/基石课后习题"
   ]
  }
 ],
 "metadata": {
  "kernelspec": {
   "display_name": "Python 3",
   "language": "python",
   "name": "python3"
  },
  "language_info": {
   "codemirror_mode": {
    "name": "ipython",
    "version": 3
   },
   "file_extension": ".py",
   "mimetype": "text/x-python",
   "name": "python",
   "nbconvert_exporter": "python",
   "pygments_lexer": "ipython3",
   "version": "3.6.4"
  }
 },
 "nbformat": 4,
 "nbformat_minor": 2
}
